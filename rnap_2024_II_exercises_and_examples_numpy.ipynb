{
  "cells": [
    {
      "cell_type": "markdown",
      "metadata": {
        "id": "z9dathS_lkMu"
      },
      "source": [
        "# **Learning and practicing NumPy with examples and exercises**"
      ]
    },
    {
      "cell_type": "markdown",
      "metadata": {},
      "source": [
        "Este cuaderno interactivo explora NumPy, biblioteca fundamental para computación científica en Python. A través de ejemplos prácticos y ejercicios, abordaremos:\n",
        "\n",
        "- Manipulación de arrays: Técnicas de indexación y segmentación desde arrays unidimensionales hasta tensores 4D.\n",
        "\n",
        "- Álgebra lineal aplicada: Operaciones matriciales, resolución de sistemas lineales, y cálculo de valores/vectores propios.\n",
        "\n",
        "- Algoritmos de optimización: Implementación del descenso de gradiente para regresión lineal.\n",
        "\n",
        "- Programación en Python: Desarrollo de funciones y clases que complementan las capacidades de NumPy.\n",
        "\n",
        "Cada ejemplo incluye explicaciones detalladas para facilitar la comprensión de conceptos fundamentales en ciencia de datos, aprendizaje automático e investigación científica, preparándote para aplicar estas herramientas en contextos reales.\n",
        "# Learning and practicing NumPy with examples and exercises"
      ]
    },
    {
      "cell_type": "code",
      "execution_count": 1,
      "metadata": {},
      "outputs": [],
      "source": [
        "import numpy as np\n"
      ]
    },
    {
      "cell_type": "markdown",
      "metadata": {},
      "source": [
        "## **1. Basic Indexing:**\n",
        "La indexación básica permite acceder a elementos individuales de un array.\n",
        "En este ejemplo, creamos un **array unidimensional** con 5 elementos y accedemos al elemento\n",
        "en la posición 2 (que es el tercer elemento, ya que la indexación comienza en 0).\n",
        "El resultado será 30."
      ]
    },
    {
      "cell_type": "code",
      "execution_count": 2,
      "metadata": {
        "id": "JrciqVNelazN"
      },
      "outputs": [
        {
          "name": "stdout",
          "output_type": "stream",
          "text": [
            "30\n"
          ]
        }
      ],
      "source": [
        "import numpy as np   \n",
        "#1. Basic Indexing:\n",
        "arr = np.array([10, 20, 30, 40, 50])\n",
        "print(arr[2])"
      ]
    },
    {
      "cell_type": "markdown",
      "metadata": {},
      "source": [
        "### 2.Slicing:\n",
        "\n",
        " El slicing permite extraer subarrays utilizando la notación **[inicio:fin]**.\n",
        " Aquí creamos un array y extraemos los elementos desde el índice\n",
        " hasta el índice 3. \n",
        " (el índice final 4 no se incluye). El resultado será un nuevo array con los valores [20, 30, 40].\n"
      ]
    },
    {
      "cell_type": "code",
      "execution_count": 3,
      "metadata": {},
      "outputs": [
        {
          "name": "stdout",
          "output_type": "stream",
          "text": [
            "[20 30 40]\n"
          ]
        }
      ],
      "source": [
        "arr=np.array([10,20,30,40,50])\n",
        "print(arr[1:4])"
      ]
    },
    {
      "cell_type": "markdown",
      "metadata": {},
      "source": [
        "#### **3. Indexing 2D Arrays:**\n",
        "Para arrays bidimensionales (matrices), usamos dos índices separados por coma, para acceder a un elemento específico. El primer índice indica la fila y el segundo la columna.\n",
        "En este ejemplo, **accedemos al elemento en la segunda fila (índice 1) y tercera columna (índice 2)**.\n",
        "\n",
        "Corresponde al valor 6."
      ]
    },
    {
      "cell_type": "code",
      "execution_count": 4,
      "metadata": {},
      "outputs": [
        {
          "name": "stdout",
          "output_type": "stream",
          "text": [
            "6\n"
          ]
        }
      ],
      "source": [
        "arr=np.array([[1,2,3],[4,5,6],[7,8,9]])\n",
        "print(arr[1,2])"
      ]
    },
    {
      "cell_type": "markdown",
      "metadata": {},
      "source": [
        "##### **4. Slicing 2D Arrays:**\n",
        "\n",
        " Descripción: El slicing también funciona en arrays multidimensionales. Podemos hacer slicing en cada dimensión separadamente. \n",
        " \n",
        " En este ejemplo, seleccionamos las primeras dos filas **([:2])** y desde la segunda columna en adelante **([1:])**. \n",
        " El resultado será una submatriz 2x2: **[[2, 3], [5, 6]]**."
      ]
    },
    {
      "cell_type": "code",
      "execution_count": 5,
      "metadata": {},
      "outputs": [
        {
          "name": "stdout",
          "output_type": "stream",
          "text": [
            "[[2 3]\n",
            " [5 6]]\n"
          ]
        }
      ],
      "source": [
        "arr=np.array([[1,2,3],[4,5,6],[7,8,9]])\n",
        "print(arr[:2,1:])"
      ]
    },
    {
      "cell_type": "markdown",
      "metadata": {},
      "source": [
        "##### **5. 3D Tensor Indexing:**\n",
        "\n",
        "Para tensores 3D (arrays con 3 dimensiones), usamos tres índices separados por comas.\n",
        "\n",
        "- El primer ejemplo accede a un elemento específico en la posición **[1,0,2]**, que corresponde a la segunda \"capa\" (índice 1), primera fila (índice 0), y tercera columna (índice 2).\n",
        "\n",
        "- El segundo ejemplo muestra cómo extraer toda una \"capa\" (un subarray 2D completo) del tensor."
      ]
    },
    {
      "cell_type": "code",
      "execution_count": 6,
      "metadata": {},
      "outputs": [
        {
          "name": "stdout",
          "output_type": "stream",
          "text": [
            "9\n",
            "[[ 7  8  9]\n",
            " [10 11 12]]\n"
          ]
        }
      ],
      "source": [
        "tensor = np.array([[[1, 2, 3], [4, 5, 6]],\n",
        "                  [[7, 8, 9], [10, 11, 12]],\n",
        "                  [[13, 14, 15], [16, 17, 18]]])\n",
        "print(tensor[1,0,2]) \n",
        "print(tensor[1]) "
      ]
    },
    {
      "cell_type": "markdown",
      "metadata": {},
      "source": [
        "##### **6. Slicing a 3D Tensor:**\n",
        " Este ejemplo muestra diferentes formas de hacer slicing en un tensor 3D.\n",
        " Primero creamos un tensor 3D con valores del 0 al 26, organizado en una estructura de 3x3x3.\n",
        " - El primer slicing (tensor[1]) extrae la segunda \"capa\" completa, una matriz 2D.\n",
        " - El segundo slicing (tensor[:, 1, :]) extrae la segunda fila de cada capa, resultando en una matriz 2D.\n",
        " - El tercer slicing (tensor[:, :, 2]) extrae la tercera columna de cada fila de cada capa."
      ]
    },
    {
      "cell_type": "code",
      "execution_count": 7,
      "metadata": {},
      "outputs": [
        {
          "name": "stdout",
          "output_type": "stream",
          "text": [
            "[[ 9 10 11]\n",
            " [12 13 14]\n",
            " [15 16 17]]\n",
            "[[ 3  4  5]\n",
            " [12 13 14]\n",
            " [21 22 23]]\n",
            "[[ 2  5  8]\n",
            " [11 14 17]\n",
            " [20 23 26]]\n"
          ]
        }
      ],
      "source": [
        "tensor=np.arange(27).reshape(3,3,3)\n",
        "print(tensor[1])\n",
        "print(tensor[:,1,:])\n",
        "print(tensor[:,:,2])"
      ]
    },
    {
      "cell_type": "markdown",
      "metadata": {},
      "source": [
        "7. 4D Tensor Indexing:\n",
        "\n",
        "Este ejemplo demuestra la indexación en tensores 4D, que tienen cuatro dimensiones. Primera dimensión (2): El tensor tiene 2 \"hipercubos\" o bloques principales.\n",
        "\n",
        "Segunda dimensión (3): Cada \"hipercubo\" contiene 3 \"capas\" o matrices 2D.\n",
        "\n",
        "Tercera dimensión (2): Cada \"capa\" tiene 2 filas.\n",
        "\n",
        "Cuarta dimensión (4): Cada fila tiene 4 elementos o columnas.\n",
        " Creamos un tensor de forma (2,3,2,4) con valores del 0 al 47.\n",
        " - El primer ejemplo accede a un elemento específico en la posición [1,2,0,3],Segundo bloque principal (índice 1)\n",
        "Tercera matriz dentro de ese bloque (índice 2)\n",
        "Primera fila de esa matriz (índice 0)\n",
        "Cuarto elemento de esa fila (índice 3) que es el valor 43.\n",
        " - El segundo ejemplo extrae un bloque 3D completo del tensor 4D, seleccionando tensor[1,2]."
      ]
    },
    {
      "cell_type": "code",
      "execution_count": 8,
      "metadata": {},
      "outputs": [
        {
          "name": "stdout",
          "output_type": "stream",
          "text": [
            "43\n",
            "[[40 41 42 43]\n",
            " [44 45 46 47]]\n"
          ]
        }
      ],
      "source": [
        "tensor=np.arange(48).reshape(2,3,2,4)\n",
        "print(tensor[1,2,0,3])\n",
        "print(tensor[1,2])"
      ]
    },
    {
      "cell_type": "markdown",
      "metadata": {},
      "source": [
        "#### **8. Slicing a 4D Tensor:**\n",
        "\n",
        "Este ejemplo muestra técnicas avanzadas de slicing en tensores 4D. Creamos un tensor de forma (2,3,2,4) con valores del 0 al 47 usando **np.arange *y* reshape**.\n",
        "\n",
        "El primer comando extrae el segundo hipercubo completo (índice 1), resultando en un tensor 3D de forma (3,2,4) que contiene los valores del 24 al 47.\n",
        "\n",
        "El segundo comando extrae la tercera matriz (índice 2) de cada uno de los bloques principales. Al usar **\":\"** seleccionamos todos los elementos en las dimensiones correspondientes, creando un tensor 3D de forma (2,2,4) que contiene solo las matrices que estaban en posición 2 de cada hipercubo."
      ]
    },
    {
      "cell_type": "code",
      "execution_count": 9,
      "metadata": {},
      "outputs": [
        {
          "name": "stdout",
          "output_type": "stream",
          "text": [
            "[[[24 25 26 27]\n",
            "  [28 29 30 31]]\n",
            "\n",
            " [[32 33 34 35]\n",
            "  [36 37 38 39]]\n",
            "\n",
            " [[40 41 42 43]\n",
            "  [44 45 46 47]]]\n",
            "[[[16 17 18 19]\n",
            "  [20 21 22 23]]\n",
            "\n",
            " [[40 41 42 43]\n",
            "  [44 45 46 47]]]\n"
          ]
        }
      ],
      "source": [
        "tensor=np.arange(48).reshape(2,3,2,4)\n",
        "print(tensor[1])\n",
        "print(tensor[:,2,:,:])"
      ]
    },
    {
      "cell_type": "markdown",
      "metadata": {},
      "source": [
        "#### **9. Matrix Addition:**\n",
        "\n",
        "se realiza la suma elemento por elemento usando el operador + de NumPy. Esta operación suma cada elemento en A con el elemento correspondiente en B que está en la misma posición.\n",
        "\n",
        "El resultado es una nueva matriz 2x2 donde:\n",
        "\n",
        "- Primera fila, primera columna: 1 + 5 = 6, \n",
        "- Primera fila, segunda columna: 2 + 6 = 8\n",
        "- Segunda fila, primera columna: 3 + 7 = 10,\n",
        "- Segunda fila, segunda columna: 4 + 8 = 12,"
      ]
    },
    {
      "cell_type": "code",
      "execution_count": 10,
      "metadata": {},
      "outputs": [
        {
          "name": "stdout",
          "output_type": "stream",
          "text": [
            "[[ 6  8]\n",
            " [10 12]]\n"
          ]
        }
      ],
      "source": [
        "A= np.array([[1,2],[3,4]])\n",
        "B= np.array([[5,6],[7,8]])\n",
        "result= A + B\n",
        "print(result)\n"
      ]
    },
    {
      "cell_type": "markdown",
      "metadata": {},
      "source": [
        "#### **10. Multiplicación de Matrices:**\n",
        "\n",
        "Este código demuestra la multiplicación de matrices usando la función np.dot() de NumPy, una operación fundamental en álgebra lineal.\n",
        "\n",
        "Primero se crean dos matrices 2×2:\n",
        "\n",
        "- La matriz A contiene los valores [[1, 2], [3, 4]]\n",
        "- La matriz B contiene los valores [[5, 6], [7, 8]]\n",
        "\n",
        "La multiplicación de matrices sigue un patrón específico donde cada elemento del resultado se calcula multiplicando los elementos correspondientes de una fila de **A** y una columna de **B**, y luego sumándolos:\n",
        "\n",
        "- Primera fila, primera columna: (1×5) + (2×7) = 5 + 14 = 19\n",
        "- Primera fila, segunda columna: (1×6) + (2×8) = 6 + 16 = 22\n",
        "- Segunda fila, primera columna: (3×5) + (4×7) = 15 + 28 = 43\n",
        "- Segunda fila, segunda columna: (3×6) + (4×8) = 18 + 32 = 50"
      ]
    },
    {
      "cell_type": "code",
      "execution_count": 11,
      "metadata": {},
      "outputs": [
        {
          "name": "stdout",
          "output_type": "stream",
          "text": [
            "[[19 22]\n",
            " [43 50]]\n"
          ]
        }
      ],
      "source": [
        "A = np.array([[1,2],[3,4]])\n",
        "B = np.array([[5,6],[7,8]])\n",
        "result= np.dot(A,B)\n",
        "print (result)"
      ]
    },
    {
      "cell_type": "markdown",
      "metadata": {},
      "source": [
        "#### **11. Transpose of a Matrix**\n",
        "\n",
        "La transposición de una matriz intercambia sus filas por sus columnas.\n",
        "\n",
        "En este ejemplo, creamos una matriz 2×2 y aplicamos la función transpose() de NumPy.\n",
        "La matriz original A tiene valores **[[1,2],[3,4]]**, y después de la transposición,\n",
        "el valor que estaba en la posición **(i,j)** ahora se encuentra en la posición **(j,i)**.\n",
        "\n",
        "Por lo tanto, la matriz transpuesta tendrá la forma **[[1,3],[2,4]]**.\n",
        "Esta operación es fundamental en álgebra lineal y tiene numerosas aplicaciones en ciencia de datos, estadística y procesamiento de señales."
      ]
    },
    {
      "cell_type": "code",
      "execution_count": 12,
      "metadata": {},
      "outputs": [
        {
          "name": "stdout",
          "output_type": "stream",
          "text": [
            "[[1 3]\n",
            " [2 4]]\n"
          ]
        }
      ],
      "source": [
        "A= np.array([[1,2],[3,4]])\n",
        "result=np.transpose(A)  \n",
        "print(result)\n"
      ]
    },
    {
      "cell_type": "markdown",
      "metadata": {},
      "source": [
        "#### **12. Matriz Determinante e Inversa:**\n",
        "\n",
        "Este código demuestra el cálculo del determinante y la matriz inversa usando funciones del subpaquete linalg (álgebra lineal) de NumPy.\n",
        "- Primero se crea una matriz 2×2:\n",
        "\n",
        "   La matriz A contiene los valores [[1, 2], [3, 4]]\n",
        "- Luego se realizan dos operaciones fundamentales del álgebra lineal:\n",
        "\n",
        "  Determinante (np.linalg.det(A)):\n",
        "\n",
        "El determinante es un valor escalar que se puede calcular a partir de los elementos de la matriz\n",
        "Para una matriz 2×2, la fórmula es: $(a×d) - (b×c)$\n",
        "\n",
        "En este caso: (1×4) - (2×3) = 4 - 6 = -2\n",
        "\n",
        "El determinante tiene muchas aplicaciones: nos dice si la matriz es invertible (si es diferente de cero), proporciona información sobre transformaciones lineales y se usa para resolver sistemas de ecuaciones\n",
        "Matriz inversa $(np.linalg.inv(A))$:\n",
        "\n",
        "La matriz inversa A⁻¹ es aquella que, multiplicada por la matriz original A, da como resultado la matriz identidad\n",
        "Solo existe si el determinante es diferente de cero\n",
        "\n",
        "Para una matriz 2×2, la inversa se calcula como:\n",
        "\n",
        "$[[ d/det, -b/det]$,\n",
        "\n",
        "$[-c/det,  a/det]]$\n",
        "\n",
        " Con nuestros valores:\n",
        "\n",
        "$ [[ 4/(-2), -2/(-2)]$,\n",
        "\n",
        "$ [-3/(-2),  1/(-2)]]$\n"
      ]
    },
    {
      "cell_type": "code",
      "execution_count": 13,
      "metadata": {},
      "outputs": [
        {
          "name": "stdout",
          "output_type": "stream",
          "text": [
            "determinant: -2.0000000000000004\n",
            "inverse:\n",
            " [[-2.   1. ]\n",
            " [ 1.5 -0.5]]\n"
          ]
        }
      ],
      "source": [
        "A=np.array([[1,2],[3,4]])\n",
        "det=np.linalg.det(A)\n",
        "inverse=np.linalg.inv(A)\n",
        "print(\"determinant:\",det)\n",
        "print(\"inverse:\\n\",inverse)"
      ]
    },
    {
      "cell_type": "markdown",
      "metadata": {},
      "source": [
        "#### **13. Eigenvalues and Eigenvectors:**\n",
        "\n",
        "Este código muestra cómo calcular valores propios (eigenvalues) y vectores propios (eigenvectors) de una matriz usando la función np.linalg.eig() de NumPy, conceptos fundamentales en álgebra lineal.\n",
        "\n",
        "Primero se crea una matriz 2×2:\n",
        "\n",
        "La matriz A contiene los valores $[[1, -1], [1, 3]]$\n",
        "Luego se utiliza $np.linalg.eig(A)$ que devuelve dos objetos:\n",
        "\n",
        "**Valores propios (eigenvalues):** Son escalares (λ) que satisfacen la ecuación **Av = λv**, donde v es un vector propio correspondiente. Físicamente, representan factores de escala en la dirección de los vectores propios.\n",
        "\n",
        "**Vectores propios (eigenvectors):** Son vectores no nulos que, cuando son multiplicados por la matriz A, resultan en un vector que es paralelo al vector original (sólo cambia su magnitud, no su dirección).\n",
        "\n",
        "Para la matriz $[[1, -1], [1, 3]]$, los resultados son:\n",
        "\n",
        "**Valores propios:** λ₁ = 2 y λ₂ = 2 (en este caso específico, tenemos un valor propio con multiplicidad 2).\n",
        "\n",
        "**Vectores propios:** columnas de la matriz resultante, cada una correspondiente a un valor propio."
      ]
    },
    {
      "cell_type": "code",
      "execution_count": 14,
      "metadata": {},
      "outputs": [
        {
          "name": "stdout",
          "output_type": "stream",
          "text": [
            "eigenvalues: [2.00000002 1.99999998]\n",
            "eigenvectors:\n",
            ": [[-0.70710677 -0.70710679]\n",
            " [ 0.70710679  0.70710677]]\n"
          ]
        }
      ],
      "source": [
        "A= np.array([[1,-1],[1,3]])\n",
        "eigenvalues,eigenvectors=np.linalg.eig(A)\n",
        "print(\"eigenvalues:\",eigenvalues)\n",
        "print(\"eigenvectors:\\n:\",eigenvectors)"
      ]
    },
    {
      "cell_type": "markdown",
      "metadata": {},
      "source": [
        "#### **14. Solving Linear Equations:**\n",
        "\n",
        "Este código muestra cómo resolver sistemas de ecuaciones lineales usando la función $np.linalg.solve()$ de NumPy.\n",
        "El sistema que se resuelve puede escribirse como:\n",
        "\n",
        "2x + y = 3\n",
        "\n",
        " x + y = 2\n",
        "\n",
        "Donde:\n",
        "La matriz $A = [[2, 1], [1, 1]]$ contiene los coeficientes de las incógnitas.\n",
        "El vector $b = [3, 2]$ contiene los términos independientes\n",
        "La solución solution será el vector que contiene los valores de **x *e* y** que satisfacen ambas ecuaciones simultáneamente\n",
        "La función $np.linalg.solve(A, b)$ resuelve el sistema matricial $Ax = b$ para encontrar el vector x.\n",
        "Para este sistema específico, la solución es $x = 1$ e $y = 1$, lo que podemos verificar:\n",
        "\n",
        "Primera ecuación: 2(1) + 1 = 3 ✓\n",
        "\n",
        "Segunda ecuación: 1 + 1 = 2 ✓\n"
      ]
    },
    {
      "cell_type": "code",
      "execution_count": 15,
      "metadata": {},
      "outputs": [
        {
          "name": "stdout",
          "output_type": "stream",
          "text": [
            "solution: [1. 1.]\n"
          ]
        }
      ],
      "source": [
        "A = np.array([[2,1],[1,1]])\n",
        "b= np.array([3,2])\n",
        "solution=np.linalg.solve(A,b)\n",
        "print(\"solution:\",solution)"
      ]
    },
    {
      "cell_type": "markdown",
      "metadata": {},
      "source": [
        "#### **15. Gradient descent optimization: Given the dataset X and y:**\n",
        "\n",
        "Este código implementa el algoritmo de descenso de gradiente para ajustar un modelo de regresión lineal. Voy a explicarlo paso a paso:\n",
        "\n",
        "**1. Generación de datos**\n",
        "\n",
        "$np.random.seed(0)$\n",
        "\n",
        "$X = 2 * np.random.rand(100, 1)$\n",
        "\n",
        "$y = 4 + 3 * X + np.random.randn(100, 1)$\n",
        "\n",
        "$np.random.seed(0)$ fija la semilla para reproducibilidad\n",
        "Genera 100 puntos de datos aleatorios en X (valores entre 0 y 2)\n",
        "Crea valores y siguiendo un modelo lineal $y = 4 + 3X + ruido$\n",
        "El verdadero modelo tiene intercepto=4 y pendiente=3\n",
        "\n",
        "**2. Preparación de datos**\n",
        "\n",
        "$X_b = np.c_[np.ones((100, 1)), X]$\n",
        "\n",
        "\n",
        "Añade una columna de unos a X para el término de sesgo (intercepto)\n",
        "Ahora X_b es una matriz de 100×2 donde la primera columna es toda unos\n",
        "\n",
        "**3. Configuración del algoritmo**\n",
        "\n",
        "$learning_rate = 0.1$\n",
        "\n",
        "$n_iterations = 1000$\n",
        "\n",
        "$theta = np.random.randn(2, 1)$\n",
        "\n",
        "Establece tasa de aprendizaje y número de iteraciones\n",
        "Inicializa aleatoriamente el vector de parámetros theta (contiene el intercepto y la pendiente).\n",
        "\n",
        "\n",
        "**4. Algoritmo de descenso de gradiente**\n",
        "\n",
        "for iteration_in_range(n_iterations):\n",
        " \n",
        "    $gradients = 2 / 100 * X_b.T.dot(X_b.dot(theta) - y)$\n",
        "    \n",
        "    $theta = theta - learning_rate * gradients$\n",
        "\n",
        "En cada iteración:\n",
        "\n",
        "Calcula la predicción $X_b.dot(theta)$\n",
        "\n",
        "Determina el error $X_b.dot(theta) - y$\n",
        "\n",
        "Calcula el gradiente usando la derivada de MSE: $2/m * X_b.T.dot(error)$\n",
        "\n",
        "Actualiza theta restando el producto del gradiente y la tasa de aprendizaje.\n",
        "\n",
        "**5. Resultado**\n",
        "\n",
        "$print(\"Final theta:\", theta)$\n",
        "\n",
        "Muestra los valores finales de theta, que deberían aproximarse a $[4, 3]$\n",
        "\n",
        "El primer valor representa el intercepto (cerca de 4)\n",
        "\n",
        "El segundo valor representa la pendiente (cerca de 3)\n",
        "\n"
      ]
    },
    {
      "cell_type": "code",
      "execution_count": 16,
      "metadata": {},
      "outputs": [
        {
          "name": "stdout",
          "output_type": "stream",
          "text": [
            "theta: [[7.06118793]\n",
            " [1.25455808]]\n"
          ]
        }
      ],
      "source": [
        "#Generate some sample data\n",
        "np.random.seed(0)\n",
        "X= np.random.rand(100,1)\n",
        "Y=4 + 3 + X + np.random.randn(100,1)\n",
        "# Add bias term to X\n",
        "X_b =np.c_[np.ones((100,1)),X]\n",
        "#Hyperparameters\n",
        "Learning_rate=0.01\n",
        "n_interactions=1000\n",
        "# Initialize the parameters\n",
        "theta = np.random.randn(2,1)\n",
        "#gradient descent\n",
        "for iteration in range(n_interactions):\n",
        "    gradients = 2/100 * X_b.T.dot(X_b.dot(theta) - Y)\n",
        "    theta = theta - Learning_rate * gradients\n",
        "\n",
        "print(\"theta:\",theta)"
      ]
    },
    {
      "cell_type": "markdown",
      "metadata": {},
      "source": [
        "# **2 Examples: Python functions and classes**\n",
        "\n",
        "**1. Simple Function:**\n",
        "\n",
        "Esta es una función básica en Python que demuestra los conceptos fundamentales de una función.\n",
        "**def** es la palabra clave que indica la definición de una función\n",
        "greet es el nombre de la función **(name)** define un parámetro que la función acepta el bloque indentado contiene el código que se ejecuta cuando se llama la función**return** especifica el valor que la función devuelve al ser llamada.\n",
        "\n",
        "print(greet(\"Ana\"))  # Output: Hello, Ana!\n",
        "\n",
        "**greet(\"Ana\")** llama a la función, pasando \"Ana\" como argumento\n",
        "La función procesa este argumento y concatena el nombre con **\"Hello, \" y \"!\"**\n",
        "\n",
        "El valor retornado **(\"Hello, Ana!\")** es pasado a la función **print()**\n",
        "\n",
        "La salida final muestra **\"Hello, Ana!\"** en la consola"
      ]
    },
    {
      "cell_type": "code",
      "execution_count": 29,
      "metadata": {},
      "outputs": [
        {
          "name": "stdout",
          "output_type": "stream",
          "text": [
            "hello,Ana!\n"
          ]
        }
      ],
      "source": [
        "def greet(name):\n",
        "    return \"hello,\"+ name + \"!\"\n",
        "\n",
        "print(greet(\"Ana\"))"
      ]
    },
    {
      "cell_type": "markdown",
      "metadata": {},
      "source": [
        "####   **2. Function with Parameters and Return:**\n",
        "\n",
        "Esta es una función simple en Python que:\n",
        "\n",
        "Define la función add_numbers que acepta dos parámetros: **a y b**.\n",
        "Dentro de la función, calcula la suma de estos dos parámetros y la guarda en la variable sum.\n",
        "\n",
        "Retorna el valor de sum.\n",
        "Luego, fuera de la función, llama a add_numbers con los argumentos 5 y 7.\n",
        "Almacena el resultado en la variable result.\n",
        "\n",
        "Imprime el valor de result, que es 12.\n",
        "\n"
      ]
    },
    {
      "cell_type": "code",
      "execution_count": 30,
      "metadata": {},
      "outputs": [
        {
          "name": "stdout",
          "output_type": "stream",
          "text": [
            "12\n"
          ]
        }
      ],
      "source": [
        "def add_numbers(a,b):\n",
        "    sum = a + b \n",
        "    return sum\n",
        "result = add_numbers(5,7)\n",
        "print(result)"
      ]
    },
    {
      "cell_type": "markdown",
      "metadata": {},
      "source": [
        "####  **3. Function with Default Parameter:**\n",
        "\n",
        "Este ejemplo muestra una función llamada power que utiliza un parámetro con valor por defecto. \n",
        "La función calcula base elevado a la potencia exponent usando el operador $** (exponenciación en Python)$.\n",
        "Si no se proporciona un valor para exponent, automáticamente se usa el valor por defecto (2).\n",
        "\n",
        "**Primer ejemplo:**\n",
        "\n",
        "print(power(3))  # Output: 9\n",
        "\n",
        "Aquí solo se proporciona el primer parámetro (base = 3)\n",
        "Como no se especifica el exponente, se usa el valor por defecto (exponent = 2)\n",
        "Por lo tanto, calcula $3² = 9$\n",
        "\n",
        "\n",
        "**Segundo ejemplo:**\n",
        "\n",
        "print(power(2, 3))  # Output: 8\n",
        "\n",
        "Aquí se proporcionan ambos parámetros: base = 2 y exponent = 3\n",
        "El valor por defecto de exponent es ignorado porque se proporciona un valor explícito.\n",
        "\n",
        "Por lo tanto, calcula $2³ = 8$\n",
        "\n"
      ]
    },
    {
      "cell_type": "code",
      "execution_count": 32,
      "metadata": {},
      "outputs": [
        {
          "name": "stdout",
          "output_type": "stream",
          "text": [
            "9\n",
            "8\n"
          ]
        }
      ],
      "source": [
        "def power(base, exponent=2):\n",
        "    return base ** exponent\n",
        "\n",
        "print(power(3))\n",
        "print(power(2,3))\n",
        "\n"
      ]
    },
    {
      "cell_type": "markdown",
      "metadata": {},
      "source": [
        "#### **4. Function with Multiple Returns:**\n",
        "\n",
        "Esta función min_max muestra cómo una función en Python puede devolver múltiples valores en una sola instrucción return.\n",
        "La función se llama min_max y acepta un parámetro llamado numbers (que debe ser una colección como una lista o tupla).\n",
        "Dentro de la función, se utiliza:\n",
        "\n",
        "-  min(numbers): función incorporada que encuentra el valor mínimo en la colección\n",
        "- max(numbers): función incorporada que encuentra el valor máximo en la colección.\n",
        "\n",
        "Ambos valores se devuelven juntos como una tupla, separados por una coma.\n",
        "\n",
        "$nums = [4, 9, 2, 7, 5]$\n",
        "\n",
        "$minimum, maximum $= min_max(nums)\n",
        "\n",
        "Primero se crea una lista nums con los valores $[4, 9, 2, 7, 5]$ Luego se llama a la función min_max pasando esta lista. La función calcula el mínimo (2) y el máximo (9) de la lista.\n",
        "Cuando la función devuelve estos dos valores como una tupla, se usa la asignación múltiple **(o \"desempaquetado\")** para guardar estos valores en variables separadas:\n",
        "\n",
        "**minimum** recibe el primer valor devuelto (2)\n",
        "\n",
        "**maximum** recibe el segundo valor devuelto (9)\n",
        "\n"
      ]
    },
    {
      "cell_type": "code",
      "execution_count": 36,
      "metadata": {},
      "outputs": [
        {
          "name": "stdout",
          "output_type": "stream",
          "text": [
            "2 9\n"
          ]
        }
      ],
      "source": [
        "def min_max(numbers):\n",
        "   return min(numbers), max(numbers)\n",
        "nums = [4, 9, 2, 7, 5]\n",
        "minimum, maximum = min_max(nums)\n",
        "print(minimum, maximum) # Output: 2 9"
      ]
    },
    {
      "cell_type": "markdown",
      "metadata": {},
      "source": [
        "#### **5. Function with Docstring:**\n",
        "\n",
        "Definición de la función: **def area_of_rectangle(length, width):** crea una función llamada **\"area_of_rectangle\"** que acepta dos parámetros: la **longitud** y el **ancho** del rectángulo.\n",
        "\n",
        "**Implementación:** **return length * width** realiza el cálculo del área multiplicando la longitud por el ancho, y devuelve el resultado.\n",
        "\n",
        "**Uso: print(area_of_rectangle(5,3))** llama a la función con los valores 5 (longitud) y 3 (ancho).\n",
        "\n",
        "Muestra el resultado (15) en la consola\n",
        "\n"
      ]
    },
    {
      "cell_type": "code",
      "execution_count": null,
      "metadata": {},
      "outputs": [
        {
          "name": "stdout",
          "output_type": "stream",
          "text": [
            "15\n"
          ]
        }
      ],
      "source": [
        "def area_of_rectangle(length, width):\n",
        "    return length * width\n",
        "print(area_of_rectangle(5,3))\n"
      ]
    },
    {
      "cell_type": "markdown",
      "metadata": {},
      "source": [
        "#### **6. Creating a Simple Class:**\n",
        "\n",
        "ilustra la creación de una clase en Python, que es un concepto fundamental en la programación orientada a objetos. \n",
        "\n",
        "**class Dog:**- Esta línea define una nueva clase llamada \"Dog\". La clase es como un plano o plantilla para crear objetos.\n",
        "\n",
        "**def __init__(self, name, age):** - Este es el constructor de la clase, un método especial que se ejecuta automáticamente cuando se crea una nueva instancia (objeto) de la clase:\n",
        "\n",
        "**self** es una referencia al objeto que se está creando **name** y **age** son parámetros que recibe el constructor \n",
        "\n",
        "- Este método inicializa los atributos del objeto\n",
        "**self.name = name y self.age = age**\n",
        " - Estas líneas asignan los valores recibidos como parámetros a los atributos del objeto:\n",
        "\n",
        "**self.name** es una variable que pertenece al objeto (atributo)\n",
        "name es el valor que se recibe como parámetro.\n",
        "\n",
        "**def bark(self):* - Este es un método definido dentro de la clase que permite al objeto \"ladrar\":\n",
        "\n",
        "Cada método en una clase recibe self como primer parámetro\n",
        "self da acceso a los atributos y otros métodos del objeto\n",
        "**print(f\"{self.name} is barking!\")** - Esta línea imprime un mensaje que incluye el nombre del perro, accediendo al atributo name a través de self.\n",
        "\n",
        "dog1 = Dog(\"Buddy\", 3)\n",
        "dog1.bark()  # Output: Buddy is barking!\n",
        "\n",
        "dog1 = Dog(\"Buddy\", 3) - Esta línea crea una nueva instancia (un objeto) de la clase Dog:\n",
        "\n",
        "Se invoca el constructor __init__ con los argumentos \"Buddy\" y 3\n",
        "Se crea un nuevo objeto con el nombre \"Buddy\" y la edad 3\n",
        "Este objeto se asigna a la variable **dog1**\n",
        "**dog1.bark()** - Esta línea llama al método **bark()** en el objeto **dog1:**\n",
        "\n",
        "El método imprime \"Buddy is barking!\" porque self.name es \"Buddy\"\n",
        "\n"
      ]
    },
    {
      "cell_type": "code",
      "execution_count": 4,
      "metadata": {},
      "outputs": [
        {
          "name": "stdout",
          "output_type": "stream",
          "text": [
            "Buddy is barking!\n"
          ]
        }
      ],
      "source": [
        "\n",
        "class Dog:\n",
        "    def __init__(self, name, age):\n",
        "         self.name = name\n",
        "         self.age = age\n",
        "    def bark(self):\n",
        "        print(f\"{self.name} is barking!\")\n",
        "# Create an instance of the Dog class\n",
        "dog1 = Dog(\"Buddy\", 3)\n",
        "dog1.bark() # Output: Buddy is barking!"
      ]
    },
    {
      "cell_type": "markdown",
      "metadata": {},
      "source": [
        "#### **7. Adding Methods and Attributes:**\n",
        "\n",
        "Este ejemplo muestra cómo crear una clase más completa con atributos y métodos que trabajan juntos. \n",
        "\n",
        "**class Student:** - Define una nueva clase llamada **\"Student\"** para representar a estudiantes.\n",
        "\n",
        "**def __init__(self, name, age):** - El constructor que inicializa el objeto:\n",
        "\n",
        "**Recibe name y age como parámetros**\n",
        "Asigna estos valores a los atributos del objeto **(self.name, self.age)**\n",
        "\n",
        "Además, crea un atributo adicional self.grades como una lista vacía que almacenará las calificaciones\n",
        "\n",
        "**def add_grade(self, grade)**: - Este método permite añadir una calificación:\n",
        "\n",
        "Recibe un valor numérico grade como parámetro\n",
        "Lo añade a la lista de calificaciones del estudiante usando **append()**\n",
        "\n",
        "**def get_average_grade(self):** - Este método calcula el promedio de calificaciones:\n",
        "\n",
        "Suma todas las calificaciones usando **sum(self.grades)**\n",
        "Divide por el número de calificaciones usando **len(self.grades)**\n",
        "Devuelve el resultado (promedio)\n",
        "\n",
        "student1 = Student(\"Alice\", 18) - Crea una instancia de la clase Student:\n",
        "\n",
        "Asigna \"Alice\" como nombre\n",
        "\n",
        "Asigna 18 como edad\n",
        "\n",
        "Inicializa una lista vacía para las calificaciones\n",
        "\n",
        "**student1.add_grade(85) y student1.add_grade(92)** - Llama al método para añadir dos calificaciones (85 y 92)\n",
        "\n",
        "**average_grade = student1.get_average_grade()** - Llama al método para calcular el promedio de calificaciones:\n",
        "\n",
        "Suma las calificaciones (85 + 92 = 177)\n",
        "\n",
        "Divide por el número de calificaciones (177 / 2 = 88.5)\n",
        "\n",
        "Almacena el resultado en la variable **average_grade**\n",
        "\n",
        "**print(f\"{student1.name}'s average grade: {average_grade}\")** - Muestra un mensaje con el nombre del estudiante y su promedio:\n",
        "\n",
        "La salida será: \"Alice's average grade: 88.5\n"
      ]
    },
    {
      "cell_type": "code",
      "execution_count": 10,
      "metadata": {},
      "outputs": [
        {
          "name": "stdout",
          "output_type": "stream",
          "text": [
            "Alice’s average grade: 88.5\n"
          ]
        }
      ],
      "source": [
        "class Student:\n",
        "    def __init__(self, name, age):\n",
        "         self.name = name\n",
        "         self.age = age\n",
        "         self.grades = []\n",
        "    \n",
        "    def add_grade(self, grade):\n",
        "         self.grades.append(grade)\n",
        "    \n",
        "    def get_average_grade(self):\n",
        "         return sum(self.grades) / len(self.grades)\n",
        "\n",
        "# Create a Student instance and add grades\n",
        "student1 = Student(\"Alice\", 18)\n",
        "student1.add_grade(85)\n",
        "student1.add_grade(92)\n",
        "average_grade = student1.get_average_grade()\n",
        "print(f\"{student1.name}’s average grade: {average_grade}\")"
      ]
    },
    {
      "cell_type": "markdown",
      "metadata": {},
      "source": [
        "#### **8. Inheritance:**\n",
        "\n",
        "Este código demuestra el concepto de herencia en la programación orientada a objetos en Python.\n",
        "\n",
        "class Animal:\n",
        "\n",
        "    def __init__(self, name):\n",
        "\n",
        "        self.name = name\n",
        "    \n",
        "    def speak(self):\n",
        "\n",
        "        pass  # Placeholder for subclasses to override\n",
        "\n",
        "class Animal: - Define una clase base (o superclase) llamada \"Animal\".\n",
        "\n",
        "**def __init__(self, name):** - El constructor de la clase que:\n",
        "\n",
        "Recibe un parámetro **name**\n",
        "\n",
        "Lo almacena como atributo del objeto **(self.name)**\n",
        "\n",
        "**def speak(self):** - Un método que:\n",
        "\n",
        "No hace nada en la clase base **(pass)**\n",
        "Sirve como un \"método abstracto\" o placeholder que las subclases deberán implementar.\n",
        "\n",
        "Define una interfaz común para todas las subclases\n",
        "\n",
        "class Cat(Animal):\n",
        "\n",
        "    def speak(self):\n",
        "\n",
        "        print(f\"{self.name} says Meow!\")\n",
        "\n",
        "class Dog(Animal):\n",
        "\n",
        "    def speak(self):\n",
        "\n",
        "        print(f\"{self.name} says Woof!\")\n",
        "\n",
        "class Cat(Animal): - Define una subclase \"Cat\" que hereda de \n",
        "\n",
        "\"Animal\":\n",
        "\n",
        "La herencia se indica poniendo la clase padre entre paréntesis\n",
        "Hereda todos los atributos y métodos de Animal\n",
        "\n",
        "**def speak(self):** - Sobreescribe (override) el método speak() de la clase padre:\n",
        "\n",
        "Implementa un comportamiento específico para los gatos.\n",
        "Utiliza el atributo self.name que heredó de la clase **Animal**.\n",
        "\n",
        "**class Dog(Animal):** - Similar a Cat, define otra subclase que hereda de Animal:\n",
        "\n",
        "También sobreescribe el método **speak()**\n",
        "\n",
        "Implementa un comportamiento específico para los perros\n",
        "\n",
        "\n",
        "**Create instances of Cat and Dog**\n",
        "cat = Cat(\"Whiskers\")\n",
        "\n",
        "dog = Dog(\"Buddy\")\n",
        "\n",
        "cat.speak()  # Output: Whiskers says Meow!\n",
        "\n",
        "dog.speak()  # Output: Buddy says Woof!\n",
        "\n",
        "cat = Cat(\"Whiskers\") - Crea una instancia de la clase Cat:\n",
        "\n",
        "Llama indirectamente al constructor __init__ de la clase **Animal**\n",
        "El parámetro \"Whiskers\" se pasa como **name**\n",
        "\n",
        "**dog = Dog(\"Buddy\")** - Crea una instancia de la clase Dog:\n",
        "\n",
        "También hereda y utiliza el constructor de Animal\n",
        "\n",
        "El parámetro **\"Buddy\"** se pasa como name\n",
        "\n",
        "**cat.speak()** - Llama al método **speak()** de la instancia de Cat:\n",
        "\n",
        "**Imprime:** \"Whiskers says Meow!\"\n",
        "\n",
        "**dog.speak()** - Llama al método **speak()** de la instancia de Dog:\n",
        "\n",
        "**Imprime:** \"Buddy says Woof!\"\n"
      ]
    },
    {
      "cell_type": "code",
      "execution_count": null,
      "metadata": {},
      "outputs": [
        {
          "name": "stdout",
          "output_type": "stream",
          "text": [
            "whiskers says Meow!\n",
            "Buddy says Woof!\n"
          ]
        }
      ],
      "source": [
        "class animal:\n",
        "    def __init__(self,name,):\n",
        "        self.name=name\n",
        "\n",
        "    def speak(self):\n",
        "            pass # Placeholder for subclasses to override\n",
        "\n",
        "class cat(animal):\n",
        "    def speak(self):\n",
        "        print(f\"{self.name} says Meow!\")\n",
        "\n",
        "class dog(animal):\n",
        "    def speak(self):\n",
        "        print(f\"{self.name} says Woof!\")\n",
        "\n",
        "# Create instances of Cat and Dog\n",
        "cat = cat(\"whiskers\")\n",
        "dog = dog(\"Buddy\")\n",
        "cat.speak() # Output: Whiskers says Meow!\n",
        "dog.speak() # Output: Buddy says Woof!"
      ]
    },
    {
      "cell_type": "markdown",
      "metadata": {},
      "source": [
        "# **3 Exercises**\n",
        "\n",
        "**3.1 Indexing Arrays in NumPy**\n",
        "\n",
        "**1.** Given the NumPy array **arr = np.array([3, 7, 1, 9, 5])**, perform the following indexing operations:\n",
        "\n",
        "a) Retrieve the third element of the array.\n",
        "\n",
        "b) Slice the array to get elements from index 1 to index 3.\n",
        "\n",
        "c) Change the value of the fourth element to 12."
      ]
    },
    {
      "cell_type": "code",
      "execution_count": 15,
      "metadata": {},
      "outputs": [
        {
          "name": "stdout",
          "output_type": "stream",
          "text": [
            "1\n",
            "[7 1 9]\n",
            "[ 3  7  1 12  5]\n"
          ]
        }
      ],
      "source": [
        "arr=np.array([3,7,1,9,5])\n",
        "print(arr[2])\n",
        "print(arr[1:4])\n",
        "arr[3] = 12\n",
        "print(arr)\n"
      ]
    },
    {
      "cell_type": "markdown",
      "metadata": {},
      "source": [
        "#### **Crea una matriz 2D de NumPy con los siguientes valores:**\n",
        "$$\n",
        "\\text{tensor} = \\begin{bmatrix}\n",
        "\\begin{bmatrix} \n",
        "1 & 2 & 3 \\\\\n",
        "4 & 5 & 6 \\\\\n",
        "7 & 8 & 9 \n",
        "\\end{bmatrix}\n",
        "\\end{bmatrix}\n",
        "$$\n",
        "a) Recupera el elemento en la segunda fila y tercera columna.\n",
        "\n",
        "b) Segmenta la matriz para obtener la submatriz que consiste en las primeras dos filas y todas las columnas."
      ]
    },
    {
      "cell_type": "code",
      "execution_count": 39,
      "metadata": {},
      "outputs": [
        {
          "name": "stdout",
          "output_type": "stream",
          "text": [
            "[[[4 5 6]]\n",
            "\n",
            " [[7 8 9]]]\n",
            "[[[1 2 3]]\n",
            "\n",
            " [[4 5 6]]]\n"
          ]
        }
      ],
      "source": [
        "tensor=np.array([[[1,2,3]],\n",
        "                 [[4,5,6]],\n",
        "                 [[7,8,9]]])\n",
        "print(tensor[1:3,:])\n",
        "print(tensor[0:2,:])"
      ]
    },
    {
      "cell_type": "markdown",
      "metadata": {},
      "source": [
        "#### **3.2 Indexación y Segmentación de Tensores de Mayor Dimensión:**\n",
        "\n",
        "Considera el siguiente tensor 3D que representa una pila de matrices:\n",
        "\n",
        "$$\n",
        "\\text{tensor} = \\begin{bmatrix}\n",
        "\\begin{bmatrix} \n",
        "1 & 2 & 3 & 4 \\\\\n",
        "5 & 6 & 7 & 8 \\\\\n",
        "9 & 10 & 11 & 12\n",
        "\\end{bmatrix}, \\\\\n",
        "\\begin{bmatrix} \n",
        "13 & 14 & 15 & 16 \\\\\n",
        "17 & 18 & 19 & 20 \\\\\n",
        "21 & 22 & 23 & 24\n",
        "\\end{bmatrix}, \\\\\n",
        "\\begin{bmatrix} \n",
        "25 & 26 & 27 & 28 \\\\\n",
        "29 & 30 & 31 & 32 \\\\\n",
        "33 & 34 & 35 & 36\n",
        "\\end{bmatrix}\n",
        "\\end{bmatrix}\n",
        "$$\n",
        "\n",
        "**a.**Recupera el elemento en la posición $(1, 0, 2)$ dentro del tensor.\n",
        "\n",
        "**solución:** Esto significa:\n",
        "\n",
        "Primera coordenada (1): Segunda matriz (índice 1)\n",
        "\n",
        "Segunda coordenada (0): Primera fila (índice 0)\n",
        "\n",
        "Tercera coordenada (2): Tercer elemento de la fila (índice 2)\n",
        "\n",
        "El resultado es 15, que corresponde al tercer elemento de la primera fila de la segunda matriz.\n",
        "\n",
        "**b.**Segmenta el tensor para obtener el subtensor 3 × 4 que corresponde a la segunda \"matriz\" (slice) a lo largo de la primera dimensión.\n",
        "\n",
        "**solución:**  Esto selecciona toda la segunda matriz (índice 1) del tensor. El resultado es una matriz de 3×4 que contiene los valores del 13 al 24 organizados en 3 filas y 4 columnas.\n",
        "\n",
        "**c.**Segmenta el tensor para obtener el subtensor 2×4 que corresponde a la última fila de las últimas dos \"matrices\".\n",
        "\n",
        "**solución:** Esta indexación significa:\n",
        "\n",
        "1:3: Selecciona las matrices con índices 1 y 2 (segunda y tercera matrices).\n",
        "\n",
        "2:: Selecciona las filas a partir del índice 2 (sólo la tercera fila en este caso).\n",
        "\n",
        "0:: Selecciona todas las columnas.\n",
        "\n",
        "El resultado es un subtensor 2×1×4 que contiene las últimas filas de las últimas dos matrices: [[21, 22, 23, 24]] y [[33, 34, 35, 36]].\n",
        "\n",
        "**d.**Recupera el elemento en la posición (2, 1, 3) dentro del tensor.\n",
        "\n",
        "**solución:** Esto significa:\n",
        "\n",
        "Primera coordenada (2): Tercera matriz (índice 2)\n",
        "\n",
        "Segunda coordenada (1): Segunda fila (índice 1)\n",
        "\n",
        "Tercera coordenada (3): Cuarto elemento de la fila (índice 3)\n",
        "\n",
        "El resultado es 32, que corresponde al cuarto elemento de la segunda fila de la tercera matriz.\n",
        "\n",
        "**e.**Segmenta el tensor para obtener el subtensor 2×4 que corresponde a la primera fila de las últimas dos \"matrices\".\n",
        "\n",
        "**solución:** Esta indexación significa:\n",
        "\n",
        "1:3: Selecciona las matrices con índices 1 y 2 (segunda y tercera matrices).\n",
        "\n",
        ":1: Selecciona las filas hasta el índice 1 (sólo la primera fila).\n",
        ":: Selecciona todas las columnas.\n",
        "\n",
        "El resultado es un subtensor 2×1×4 que contiene las primeras filas de las últimas dos matrices:$[[13, 14, 15, 16]]$ y $[[25, 26, 27, 28]]$.\n",
        "\n",
        "**Pista:** Recuerda que en la indexación de NumPy, el primer índice corresponde a la dimensión más externa, el segundo índice corresponde a la siguiente dimensión interna, y así sucesivamente.\n",
        "\n"
      ]
    },
    {
      "cell_type": "code",
      "execution_count": 27,
      "metadata": {},
      "outputs": [
        {
          "name": "stdout",
          "output_type": "stream",
          "text": [
            "A: 15\n",
            "B: [[13 14 15 16]\n",
            " [17 18 19 20]\n",
            " [21 22 23 24]]\n",
            "C: [[[21 22 23 24]]\n",
            "\n",
            " [[33 34 35 36]]]\n",
            "D: 32\n",
            "E: [[[13 14 15 16]]\n",
            "\n",
            " [[25 26 27 28]]]\n"
          ]
        }
      ],
      "source": [
        "\"\"\"\n",
        "tensor = np.array([\n",
        "    # Primera matriz (primer \"slice\" o \"capa\")\n",
        "    [\n",
        "        [1, 2, 3, 4],\n",
        "        [5, 6, 7, 8],\n",
        "        [9, 10, 11, 12]\n",
        "    ],\n",
        "    \n",
        "    # Segunda matriz (segundo \"slice\" o \"capa\")\n",
        "    [\n",
        "        [13, 14, 15, 16],\n",
        "        [17, 18, 19, 20],\n",
        "        [21, 22, 23, 24]\n",
        "    ],\n",
        "    \n",
        "    # Tercera matriz (tercer \"slice\" o \"capa\")\n",
        "    [\n",
        "        [25, 26, 27, 28],\n",
        "        [29, 30, 31, 32],\n",
        "        [33, 34, 35, 36]\n",
        "    ]\n",
        "])\n",
        "\"\"\"\n",
        "\n",
        "tensor=np.arange(1,37).reshape(3,3,4)\n",
        "\n",
        "print(\"A:\",tensor[1,0,2])\n",
        "print(\"B:\",tensor[1])\n",
        "print(\"C:\",tensor[1:3,2:,0:])\n",
        "print(\"D:\",tensor[2,1,3])\n",
        "print(\"E:\",tensor[1:3,:1,:])"
      ]
    },
    {
      "cell_type": "markdown",
      "metadata": {},
      "source": [
        "#### **3.3 Definiendo Funciones en Python**\n",
        "\n",
        "**1.** Escribe una función en Python calculate_average que tome una lista de números como entrada y devuelva el promedio de esos números.\n",
        "\n",
        "**solución:**\n",
        "\n",
        "Este código define una función para calcular el promedio de una lista de números y luego implementa una interfaz de usuario por consola para utilizarla:\n",
        "\n",
        "**Función calculate_average:**\n",
        "\n",
        "Recibe una lista de números **(numbers)** como parámetro verifica si la lista está vacía: si lo está, devuelve 0\n",
        "Si contiene elementos, calcula y devuelve el promedio (suma dividida por cantidad).\n",
        "\n",
        "**Programa principal:**\n",
        "\n",
        "Inicializa una lista vacía numeros para almacenar las notas.\n",
        "\n",
        "Solicita el nombre del usuario con **input()**\n",
        "\n",
        "Inicia un bucle para pedir notas:\n",
        "\n",
        "Acepta notas numéricas que se convierten a float y se agregan a la lista\n",
        "\n",
        "Si el usuario escribe \"fin\", termina la entrada de datos.\n",
        "Maneja posibles errores si el usuario introduce texto no numérico\n",
        "Al finalizar, calcula el promedio usando la función **calculate_average**\n",
        "\n",
        "Muestra el resultado con el nombre del usuario y su promedio\n",
        "Si no se ingresaron notas, muestra un mensaje adecuado"
      ]
    },
    {
      "cell_type": "code",
      "execution_count": 61,
      "metadata": {},
      "outputs": [
        {
          "name": "stdout",
          "output_type": "stream",
          "text": [
            "20, tu promedio es: 83.57142857142857\n"
          ]
        }
      ],
      "source": [
        "\n",
        "def calculate_average(numbers):\n",
        "  \n",
        "    if not numbers:\n",
        "        return 0  # O levantar una excepción\n",
        "        \n",
        "    return sum(numbers) / len(numbers)\n",
        "\n",
        "# Ejemplo de uso\n",
        "numeros = []\n",
        "nombre = input(\"Ingresa tu nombre: \")\n",
        "\n",
        "while True:\n",
        "    entrada = input(\"Ingresa una nota (o 'fin' para terminar): \")\n",
        "    if entrada.lower() == 'fin':\n",
        "        break\n",
        "    \n",
        "    try:\n",
        "        nota = float(entrada)\n",
        "        numeros.append(nota)\n",
        "    except ValueError:\n",
        "        print(\"Por favor ingresa un número válido\")\n",
        "\n",
        "if numeros:\n",
        "    promedio = calculate_average(numeros)\n",
        "    print(f\"{nombre}, tu promedio es: {promedio}\")\n",
        "else:\n",
        "    print(\"No ingresaste ninguna nota\")"
      ]
    },
    {
      "cell_type": "markdown",
      "metadata": {},
      "source": [
        "**2.** Define una función **find_power** que calcule el resultado de un número elevado a un exponente dado. \n",
        "\n",
        "La función debe tener dos parámetros: **base** (el número base) y **exponent** (el valor por defecto debe ser 2).\n",
        "\n",
        "**Explicación del código find_power**\n",
        "\n",
        "Este código implementa una calculadora sencilla para calcular potencias con manejo de errores:\n",
        "\n",
        "**Función find_power:**\n",
        "\n",
        "**Recibe dos parámetros:** **base** (número a elevar) y **exponent** (potencia)\n",
        "Utiliza el operador ** de Python para calcular la potencia\n",
        "Retorna el resultado de elevar **base** a la potencia **exponent**\n",
        "\n",
        "**Programa principal:**\n",
        "\n",
        "- Implementa manejo de errores con estructura **try-except**\n",
        "- Solicita al usuario un número mediante la función **input()**\n",
        "- Convierte la entrada del usuario a entero usando **int()**\n",
        "- Define el exponente con valor fijo 2 (para calcular cuadrados)\n",
        "- Llama a la función find_power pasando los valores obtenidos\n",
        "- Muestra el resultado al usuario con formato claro usando **f-strings**\n",
        "- Captura el error **ValueError** que ocurriría si el usuario ingresa texto no numérico.\n",
        "\n",
        "Muestra un mensaje amigable cuando ocurre un error"
      ]
    },
    {
      "cell_type": "code",
      "execution_count": 60,
      "metadata": {},
      "outputs": [
        {
          "name": "stdout",
          "output_type": "stream",
          "text": [
            "no es un número\n"
          ]
        }
      ],
      "source": [
        "def find_power(base,exponent):\n",
        "    return base**exponent\n",
        "try:\n",
        "   base = int(input(\"escribe un número:\"))\n",
        "   exponent = 2\n",
        "   resultado=find_power(base,exponent)\n",
        "   print(f\"{base} elevado a la 2 es:{resultado}\")\n",
        "\n",
        "except ValueError:\n",
        "   print(\"no es un número\")\n",
        "       \n"
      ]
    },
    {
      "cell_type": "markdown",
      "metadata": {},
      "source": [
        "#### **3.4 Implementación de la Optimización por Descenso de Gradiente**\n",
        "\n",
        "**1.** Considera el problema de regresión lineal donde tienes los siguientes puntos de datos:\n",
        "\n",
        "$X = [1, 2, 3, 4, 5]$ $y = [3, 6, 8, 11, 13]$\n",
        "\n",
        " Implementa un programa en Python usando NumPy para realizar la optimización por descenso de gradiente y encontrar los parámetros $θ0$ y $θ1$ para el modelo de regresión lineal $hθ(x) = θ0 + θ1x$. Utiliza una tasa de aprendizaje de 0.01 y realiza 1000 iteraciones.\n",
        "\n",
        "**2.** Dibuja en un gráfico el progreso de los parámetros θ0 y θ1 a través de las iteraciones.\n",
        "\n",
        "**3.** Explica con tus propias palabras el propósito de la tasa de aprendizaje en la optimización por descenso de gradiente.\n",
        "\n",
        "**explicación:** el propósito de la tasa de aprendizaje es determinar el tamaño de los pasos que da el algoritmo en cada iteración, que se puede visualizar en las gráficas. Si ponemos una tasa de aprendizaje alto, puede que sean inconsistes los parámetros y no se estabilice nunca, si ponemos un valor muy pequeño el algoritmo dará pasos muy pequeños y puede que llegue a estabilizarse despues de un largo tiempo o puede que no. Poniendo el valor adecuado llegaremos a converger en un tiempo razonable y con una estabilización óptima.\n",
        "\n",
        "\n",
        "**explicación del code:**\n",
        "\n",
        "Este código implementa el algoritmo de descenso de gradiente para resolver un problema de regresión lineal. Voy a explicar cómo funciona:\n",
        "\n",
        "**Preparación de datos y configuración**\n",
        "\n",
        "- Se importan las bibliotecas necesarias: NumPy para operaciones numéricas y Matplotlib para visualización.\n",
        "- Se definen los datos de entrada $(X = [1,2,3,4,5])$ y salida $(y = [3,6,8,11,13])$\n",
        "- Se añade una columna de unos a X para incorporar el término de    sesgo $(θ₀)$\n",
        "\n",
        "- Se configuran los hiperparámetros: tasa de aprendizaje de 0.01 y 1000 iteraciones.\n",
        "- Se inicializan aleatoriamente los parámetros θ₀ y θ₁.\n",
        "- Se crean listas vacías para almacenar la evolución de los parámetros.\n",
        "\n",
        "**Algoritmo principal**\n",
        "\n",
        "En cada iteración:\n",
        "\n",
        "- Se calcula la predicción actual: $X_b.dot(theta)$\n",
        "- Se determina el error entre la predicción y los valores reales: $X_b.dot(theta) - y$\n",
        "- Se calcula el gradiente (dirección y magnitud del cambio necesario) multiplicando por la matriz transpuesta.\n",
        "- Se actualizan los parámetros θ restando el gradiente multiplicado por la tasa de aprendizaje.\n",
        "- Se guardan los valores de los parámetros para visualización posterior.\n",
        "\n",
        "**Visualización**\n",
        "\n",
        "- Se muestran los valores finales de los parámetros (que deberían aproximarse a θ₀ ≈ 0.5 y θ₁ ≈ 2.5).\n",
        "- Se crean dos gráficos que muestran cómo evolucionan θ₀ y θ₁ durante las 1000 iteraciones.\n",
        "- Estas gráficas permiten observar la convergencia del algoritmo hacia los valores óptimos.\n"
      ]
    },
    {
      "cell_type": "code",
      "execution_count": 5,
      "metadata": {},
      "outputs": [
        {
          "name": "stdout",
          "output_type": "stream",
          "text": [
            "Valores finales de theta: [[0.69186954]\n",
            " [2.50225201]]\n"
          ]
        },
        {
          "data": {
            "image/png": "[encoded data removed]",
            "text/plain": [
              "<Figure size 1200x500 with 2 Axes>"
            ]
          },
          "metadata": {},
          "output_type": "display_data"
        }
      ],
      "source": [
        "import numpy as np\n",
        "import matplotlib.pyplot as plt\n",
        "\n",
        "# Datos\n",
        "X = np.array([1, 2, 3, 4, 5]).reshape(-1, 1)\n",
        "y = np.array([3, 6, 8, 11, 13]).reshape(-1, 1)\n",
        "\n",
        "# Añadir término de sesgo\n",
        "X_b = np.c_[np.ones((5, 1)), X]\n",
        "\n",
        "# Hiperparámetros\n",
        "learning_rate = 0.01\n",
        "n_iterations = 1000\n",
        "\n",
        "# Inicializar parámetros\n",
        "theta = np.random.randn(2, 1)\n",
        "\n",
        "# Listas para almacenar el historial de parámetros\n",
        "theta0_history = []\n",
        "theta1_history = []\n",
        "\n",
        "# Algoritmo de descenso de gradiente\n",
        "for iteration in range(n_iterations):\n",
        "    gradients = 2/5 * X_b.T.dot(X_b.dot(theta) - y)\n",
        "    theta = theta - learning_rate * gradients\n",
        "    \n",
        "    # Guardar valores para visualización\n",
        "    theta0_history.append(theta[0][0])\n",
        "    theta1_history.append(theta[1][0])\n",
        "\n",
        "print(\"Valores finales de theta:\", theta)\n",
        "\n",
        "# Visualizar el progreso de los parámetros\n",
        "plt.figure(figsize=(12, 5))\n",
        "\n",
        "plt.subplot(1, 2, 1)\n",
        "plt.plot(range(n_iterations), theta0_history)\n",
        "plt.title('Progreso de θ₀')\n",
        "plt.xlabel('Iteraciones')\n",
        "plt.ylabel('Valor de θ₀')\n",
        "\n",
        "plt.subplot(1, 2, 2)\n",
        "plt.plot(range(n_iterations), theta1_history)\n",
        "plt.title('Progreso de θ₁')\n",
        "plt.xlabel('Iteraciones')\n",
        "plt.ylabel('Valor de θ₁')\n",
        "\n",
        "plt.tight_layout()\n",
        "plt.show()"
      ]
    }
  ],
  "metadata": {
    "colab": {
      "provenance": []
    },
    "kernelspec": {
      "display_name": "Python 3",
      "language": "python",
      "name": "python3"
    },
    "language_info": {
      "codemirror_mode": {
        "name": "ipython",
        "version": 3
      },
      "file_extension": ".py",
      "mimetype": "text/x-python",
      "name": "python",
      "nbconvert_exporter": "python",
      "pygments_lexer": "ipython3",
      "version": "3.13.2"
    }
  },
  "nbformat": 4,
  "nbformat_minor": 0
}
